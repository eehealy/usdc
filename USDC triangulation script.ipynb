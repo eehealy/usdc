{
 "cells": [
  {
   "cell_type": "code",
   "execution_count": null,
   "metadata": {},
   "outputs": [],
   "source": [
    "import USDC as u\n",
    "from IPython import display\n",
    "import numpy as np"
   ]
  },
  {
   "cell_type": "code",
   "execution_count": null,
   "metadata": {},
   "outputs": [],
   "source": [
    "fname = 'USDC_RT_database_v4.csv'\n",
    "tdb = u.trace_database(fname)\n",
    "\n",
    "BL0 = u.route(tdb, 'BL-0')\n",
    "BL1 = u.route(tdb, 'BL-1')\n",
    "BL2 = u.route(tdb, 'BL-2')\n",
    "BL3 = u.route(tdb, 'BL-3')\n",
    "BL4 = u.route(tdb, 'BL-4')\n",
    "BL5 = u.route(tdb, 'BL-6')\n",
    "BL6 = u.route(tdb, 'BL-6')\n",
    "BL7 = u.route(tdb, 'BL-7')\n",
    "BL8 = u.route(tdb, 'BL-8')\n",
    "BL9 = u.route(tdb, 'BL-9')\n",
    "BL10 = u.route(tdb, 'BL-10')\n",
    "BL11 = u.route(tdb, 'BL-11')"
   ]
  },
  {
   "cell_type": "code",
   "execution_count": null,
   "metadata": {},
   "outputs": [],
   "source": [
    "# record debugging details here\n",
    "# north or south side?\n",
    "# A = BL-9\n",
    "# B = BL-10\n",
    "\n",
    "\n",
    "# shorts code = (A_cont, B_cont, ++, +-, -+)\n",
    "# insert values for A_cont, B_cont, ++, +-, -+ from probing results\n",
    "\n",
    "resistances = u.get_shorts_between_bias_lines(156.036,126.018,91.232,138.959,161.985)\n",
    "print(resistances)\n",
    "\n",
    "# creates diagnostic figure\n",
    "u.circuit_diagram(resistances[0],resistances[1],resistances[2],resistances[3],resistances[4])\n",
    "display.Image(\"shorts.png\")\n",
    "\n",
    "u.triangulate_short(BL9,BL10,resistances[0],resistances[1],resistances[2],resistances[3],resistances[4])\n"
   ]
  },
  {
   "cell_type": "code",
   "execution_count": null,
   "metadata": {},
   "outputs": [],
   "source": [
    "\n",
    "\n",
    "# A = BL-10\n",
    "# B = BL-11\n",
    "# shorts code = (A_cont, B_cont, ++, +-, -+)\n",
    "\n",
    "\n",
    "resistances = u.get_shorts_between_bias_lines(126.018,67.049,61.793,79.643,145.789)\n",
    "print(resistances)\n",
    "\n",
    "\n",
    "u.circuit_diagram(resistances[0],resistances[1],resistances[2],resistances[3],resistances[4])\n",
    "display.Image(\"shorts.png\")\n"
   ]
  },
  {
   "cell_type": "code",
   "execution_count": null,
   "metadata": {},
   "outputs": [],
   "source": []
  }
 ],
 "metadata": {
  "kernelspec": {
   "display_name": "Python 3",
   "language": "python",
   "name": "python3"
  },
  "language_info": {
   "codemirror_mode": {
    "name": "ipython",
    "version": 3
   },
   "file_extension": ".py",
   "mimetype": "text/x-python",
   "name": "python",
   "nbconvert_exporter": "python",
   "pygments_lexer": "ipython3",
   "version": "3.7.6"
  }
 },
 "nbformat": 4,
 "nbformat_minor": 4
}
